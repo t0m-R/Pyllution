{
 "cells": [
  {
   "cell_type": "code",
   "execution_count": 1,
   "metadata": {
    "colab": {},
    "colab_type": "code",
    "id": "Rk-tJXpSRmC3"
   },
   "outputs": [],
   "source": [
    "import pandas as pd\n",
    "import pickle as p\n",
    "import os\n",
    "import re\n",
    "import glob"
   ]
  },
  {
   "cell_type": "code",
   "execution_count": 2,
   "metadata": {},
   "outputs": [],
   "source": [
    "def r_csv(dataset):\n",
    "    '''\n",
    "    read csv\n",
    "    input string = dataset name\n",
    "    return dataframe\n",
    "    '''\n",
    "    file = dataset  + '.csv'\n",
    "    path = os.path.join('Datasets', dataset, 'data', file)\n",
    "    csv = pd.read_csv(path)\n",
    "    return csv\n",
    "\n",
    "def r_df(dataset):\n",
    "    '''\n",
    "    read df\n",
    "    input string = dataset name\n",
    "    return dataframe\n",
    "    '''\n",
    "    file = dataset \n",
    "    path = os.path.join('Datasets', dataset, 'data', file)\n",
    "    with open(path, 'rb') as f:\n",
    "      df = p.load(f)\n",
    "    return df\n",
    "\n",
    "def w_csv(dataset, df):\n",
    "    '''\n",
    "    write df to csv\n",
    "    '''\n",
    "    file = dataset  + '.csv'\n",
    "    path = os.path.join('Datasets', dataset, 'data', file)\n",
    "    df.to_csv(path)\n",
    "    \n",
    "def w_df(dataset, df):\n",
    "    '''\n",
    "    write df to pickle file\n",
    "    '''\n",
    "    file = dataset\n",
    "    path = os.path.join('Datasets', dataset, 'data', file)\n",
    "    with open(path, \"wb\") as f:\n",
    "      p.dump(df, f)"
   ]
  },
  {
   "cell_type": "code",
   "execution_count": 3,
   "metadata": {
    "colab": {},
    "colab_type": "code",
    "id": "GW886VRLpvfc"
   },
   "outputs": [],
   "source": [
    "def _AQI(row):\n",
    "  \"\"\"\n",
    "  return Air Quality Index\n",
    "  \"\"\"\n",
    "  # pollutants AQIs EU\n",
    "  pm25 = [10,0, 20,0, 25,0, 50,0]\n",
    "  so2 = [100,0, 200,0, 350,0, 500,0]\n",
    "  \n",
    "  aqi = []\n",
    "  for i in range(0,5):\n",
    "    if row['DUSMASS25'] <= pm25[i]:\n",
    "      aqi.append(i+1)\n",
    "    if row['SO2SMASS'] <= so2[i]:\n",
    "      aqi.append(i+1) \n",
    "  while len(aqi) < 2:\n",
    "    aqi.append(5)\n",
    "\n",
    "  #  final AQI is the average of single pollutant AQIs \n",
    "  AQI = ( sum(aqi) // len(aqi) )\n",
    "  \n",
    "  return AQI"
   ]
  },
  {
   "cell_type": "code",
   "execution_count": 4,
   "metadata": {
    "colab": {},
    "colab_type": "code",
    "id": "kv5HvI5lNl-Y"
   },
   "outputs": [],
   "source": [
    "def AOD_merge(path):\n",
    "    '''\n",
    "    create unique dataframe for satellite dataset\n",
    "    '''\n",
    "    files = glob.glob(path + \"/*.csv\")\n",
    "\n",
    "    aod = []\n",
    "    for ff in files:\n",
    "      df = pd.read_csv(ff)\n",
    "      df = df.drop(labels='Unnamed: 8', axis=1)\n",
    "      df.columns = ['YYYY', 'MM', 'DD', 'Latitude', 'Longitude', 'AOD1', 'AOD3', 'STD3']\n",
    "      f1 = re.split('[/_.]', ff)\n",
    "      f1 = f1[7:len(f1)-1]\n",
    "      df['Country'] = df.apply( lambda row: f1[0], axis=1 )\n",
    "      df['City'] = df.apply( lambda row: f1[1], axis=1 )\n",
    "      df['Location'] = df.apply( lambda row: f1[2], axis=1 )\n",
    "      df['Time'] = df.apply( lambda row: f1[3], axis=1 )  \n",
    "      aod.append(df)\n",
    "\n",
    "\n",
    "    AOD = pd.concat(aod, ignore_index = True, sort = True)\n",
    "    return AOD"
   ]
  },
  {
   "cell_type": "code",
   "execution_count": null,
   "metadata": {
    "colab": {},
    "colab_type": "code",
    "id": "PQoe-rpXnMFC"
   },
   "outputs": [],
   "source": []
  },
  {
   "cell_type": "code",
   "execution_count": null,
   "metadata": {
    "colab": {},
    "colab_type": "code",
    "id": "kHxeM57Vq5W8"
   },
   "outputs": [],
   "source": []
  },
  {
   "cell_type": "code",
   "execution_count": null,
   "metadata": {},
   "outputs": [],
   "source": []
  },
  {
   "cell_type": "code",
   "execution_count": null,
   "metadata": {},
   "outputs": [],
   "source": []
  }
 ],
 "metadata": {
  "colab": {
   "collapsed_sections": [],
   "name": "DataClean.ipynb",
   "provenance": []
  },
  "kernelspec": {
   "display_name": "Python 3",
   "language": "python",
   "name": "python3"
  },
  "language_info": {
   "codemirror_mode": {
    "name": "ipython",
    "version": 3
   },
   "file_extension": ".py",
   "mimetype": "text/x-python",
   "name": "python",
   "nbconvert_exporter": "python",
   "pygments_lexer": "ipython3",
   "version": "3.6.8"
  }
 },
 "nbformat": 4,
 "nbformat_minor": 1
}
