{
  "nbformat": 4,
  "nbformat_minor": 0,
  "metadata": {
    "colab": {
      "name": "DataClean.ipynb",
      "provenance": [],
      "collapsed_sections": []
    },
    "kernelspec": {
      "name": "python3",
      "display_name": "Python 3"
    }
  },
  "cells": [
    {
      "cell_type": "code",
      "metadata": {
        "id": "1VgTs3qXmZeZ",
        "colab_type": "code",
        "outputId": "2b968ec2-b577-4756-daf8-5878d1b44b61",
        "colab": {
          "base_uri": "https://localhost:8080/",
          "height": 34
        }
      },
      "source": [
        "from google.colab import drive\n",
        "drive.mount('/content/drive')\n"
      ],
      "execution_count": 0,
      "outputs": [
        {
          "output_type": "stream",
          "text": [
            "Drive already mounted at /content/drive; to attempt to forcibly remount, call drive.mount(\"/content/drive\", force_remount=True).\n"
          ],
          "name": "stdout"
        }
      ]
    },
    {
      "cell_type": "code",
      "metadata": {
        "id": "Rk-tJXpSRmC3",
        "colab_type": "code",
        "colab": {}
      },
      "source": [
        "import pandas as pd\n",
        "import os"
      ],
      "execution_count": 0,
      "outputs": []
    },
    {
      "cell_type": "code",
      "metadata": {
        "id": "GW886VRLpvfc",
        "colab_type": "code",
        "colab": {}
      },
      "source": [
        "def _AQI(row):\n",
        "  \"\"\"\n",
        "  return Air Quality Index\n",
        "  \"\"\"\n",
        "  # pollutants AQIs EU\n",
        "  pm25 = [10,0, 20,0, 25,0, 50,0]\n",
        "  so2 = [100,0, 200,0, 350,0, 500,0]\n",
        "  \n",
        "  aqi = []\n",
        "  for i in range(0,5):\n",
        "    if row['DUSMASS25'] <= pm25[i]:\n",
        "      aqi.append(i+1)\n",
        "    if row['SO2SMASS'] <= so2[i]:\n",
        "      aqi.append(i+1) \n",
        "  while len(aqi) < 2:\n",
        "    aqi.append(5)\n",
        "\n",
        "  #  final aqi is the average of single pollutant AQIs \n",
        "  AQI = ( sum(aqi) // len(aqi) )\n",
        "  \n",
        "  return AQI\n"
      ],
      "execution_count": 0,
      "outputs": []
    },
    {
      "cell_type": "code",
      "metadata": {
        "id": "PQoe-rpXnMFC",
        "colab_type": "code",
        "colab": {}
      },
      "source": [
        "# add Air Quality Index to MERRA2 dataset\n",
        "merra = pd.read_csv(\"/content/drive/My Drive/NASA/MERRA2/20181231.state.slv.aer.csv\")\n",
        "merra['AQI'] = merra.apply ( lambda row: _AQI(row), axis=1 )\n"
      ],
      "execution_count": 0,
      "outputs": []
    },
    {
      "cell_type": "code",
      "metadata": {
        "id": "kv5HvI5lNl-Y",
        "colab_type": "code",
        "colab": {}
      },
      "source": [
        "# create unique satellite dataset in AOD variable\n",
        "\n",
        "import re\n",
        "import glob\n",
        "\n",
        "path = \"/content/drive/My Drive/NASA/AOD_DATA\"\n",
        "\n",
        "files = glob.glob(path + \"/*.csv\")\n",
        "\n",
        "aod = []\n",
        "for ff in files:\n",
        "  df = pd.read_csv(ff)\n",
        "  df = df.drop(labels='Unnamed: 8', axis=1)\n",
        "  df.columns = ['YYYY', 'MM', 'DD', 'Latitude', 'Longitude', 'AOD1', 'AOD3', 'STD3']\n",
        "  f1 = re.split('[/_.]', ff)\n",
        "  f1 = f1[7:len(f1)-1]\n",
        "  df['Country'] = df.apply( lambda row: f1[0], axis=1 )\n",
        "  df['City'] = df.apply( lambda row: f1[1], axis=1 )\n",
        "  df['Location'] = df.apply( lambda row: f1[2], axis=1 )\n",
        "  df['Time'] = df.apply( lambda row: f1[3], axis=1 )  \n",
        "  aod.append(df)\n",
        "\n",
        "\n",
        "AOD = pd.concat(aod, ignore_index = True, sort = True)\n"
      ],
      "execution_count": 0,
      "outputs": []
    },
    {
      "cell_type": "code",
      "metadata": {
        "id": "kHxeM57Vq5W8",
        "colab_type": "code",
        "colab": {}
      },
      "source": [
        "# save new files\n",
        "import pickle as p\n",
        "\n",
        "with open(\"/content/drive/My Drive/NASA/aod\", \"wb\") as f:\n",
        "  p.dump(AOD, f)\n",
        "\n",
        "with open(\"/content/drive/My Drive/NASA/merra\", \"wb\") as f:\n",
        "          p.dump(merra, f)\n",
        "\n",
        "AOD.to_csv(\"/content/drive/My Drive/NASA/AOD.csv\")\n",
        "merra.to_csv(\"/content/drive/My Drive/NASA/MERRA2.csv\")"
      ],
      "execution_count": 0,
      "outputs": []
    }
  ]
}